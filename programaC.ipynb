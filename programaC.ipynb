{
  "nbformat": 4,
  "nbformat_minor": 0,
  "metadata": {
    "colab": {
      "name": "programaC.ipynb",
      "provenance": [],
      "authorship_tag": "ABX9TyNWvyBYCtEYzyiDGFC347mw",
      "include_colab_link": true
    },
    "kernelspec": {
      "name": "python3",
      "display_name": "Python 3"
    }
  },
  "cells": [
    {
      "cell_type": "markdown",
      "metadata": {
        "id": "view-in-github",
        "colab_type": "text"
      },
      "source": [
        "<a href=\"https://colab.research.google.com/github/sharsey/JavaFrontendAsincrono/blob/master/programaC.ipynb\" target=\"_parent\"><img src=\"https://colab.research.google.com/assets/colab-badge.svg\" alt=\"Open In Colab\"/></a>"
      ]
    },
    {
      "cell_type": "markdown",
      "metadata": {
        "id": "pPnsM8fRhgMm"
      },
      "source": [
        "# Pasos para realizar el algoritmo de los siguientes programas\r\n",
        "\r\n",
        "## 1. Definicion del problema\r\n",
        "## 2. Análisis del problema\r\n",
        "## 3. Diseño \r\n",
        "## 4. Pruebas"
      ]
    },
    {
      "cell_type": "markdown",
      "metadata": {
        "id": "i-XWrIQ6iGkl"
      },
      "source": [
        "\r\n",
        "\r\n",
        "---\r\n",
        "\r\n",
        "---\r\n",
        "\r\n",
        "\r\n",
        "\r\n"
      ]
    },
    {
      "cell_type": "markdown",
      "metadata": {
        "id": "au9EAhgwiJhe"
      },
      "source": [
        "## 1. Definicion del problema"
      ]
    },
    {
      "cell_type": "markdown",
      "metadata": {
        "id": "auVIJEZeLBfN"
      },
      "source": [
        "Realizar un programa que lea 10 numeros si son pares multiplique por dos y acumule y si son imparares solo sume"
      ]
    },
    {
      "cell_type": "markdown",
      "metadata": {
        "id": "DN_kdctTiM0l"
      },
      "source": [
        "## 2. Análisis del problema\r\n",
        "Leer 10 numeros, si son pares se multiplican por dos y se acumulan en la variable pares, caso contrario solo se suman y se acumulan en la variable\r\n",
        "\r\n",
        "**Datos de entrada**: numeros enteros\r\n",
        "\r\n",
        "**Datos de salida**: Acumulación de los dos datos \r\n",
        "  \r\n",
        "  Total de pares: pares\r\n",
        "\r\n",
        "  Total de impares: impares\r\n"
      ]
    },
    {
      "cell_type": "markdown",
      "metadata": {
        "id": "iwkN4WeWixbV"
      },
      "source": [
        "## 3. Diseño\r\n",
        "\r\n",
        "**- Lenguaje natural**\r\n",
        "\r\n",
        "    Inicio\r\n",
        "      pares = 0\r\n",
        "      impares = 0\r\n",
        "      para i en el rango(10)\r\n",
        "      escribir \"Ingrese un numero\"\r\n",
        "      leer numero\r\n",
        "\r\n",
        "      si(numero % 2 == 0)\r\n",
        "        numero = numero * 2\r\n",
        "        pares = pares + numero\r\n",
        "\r\n",
        "      sino\r\n",
        "        impares = impares + numero\r\n",
        "\r\n",
        "      escribir \"Total de pares: \", pares\r\n",
        "      escribir \"Total de impares: \", impares \r\n",
        "    Fin\r\n",
        "  \r\n",
        "\r\n",
        "\r\n",
        "**- Código**"
      ]
    },
    {
      "cell_type": "code",
      "metadata": {
        "id": "_FJTf0_obdF7",
        "colab": {
          "base_uri": "https://localhost:8080/"
        },
        "outputId": "6d4eb222-707f-4a61-c880-a13ea6377130"
      },
      "source": [
        "pares = 0\r\n",
        "impares = 0\r\n",
        "for i in range(10):\r\n",
        "  numero = int(input(\"Ingresa el numero \"+str (i) +\" : \"))\r\n",
        "  if (numero%2 == 0):\r\n",
        "    numero *= 2\r\n",
        "    pares += numero\r\n",
        "  else:\r\n",
        "    impares += numero\r\n",
        "\r\n",
        "print(\"Total de pares: \"+ str (pares))\r\n",
        "print(\"Total de impares: \"+ str (impares))"
      ],
      "execution_count": 1,
      "outputs": [
        {
          "output_type": "stream",
          "text": [
            "Ingresa el numero 0 : 4\n",
            "Ingresa el numero 1 : 5\n",
            "Ingresa el numero 2 : 1\n",
            "Ingresa el numero 3 : 2\n",
            "Ingresa el numero 4 : 5\n",
            "Ingresa el numero 5 : 8\n",
            "Ingresa el numero 6 : 6\n",
            "Ingresa el numero 7 : 9\n",
            "Ingresa el numero 8 : 5\n",
            "Ingresa el numero 9 : 7\n",
            "Total de pares: 40\n",
            "Total de impares: 32\n"
          ],
          "name": "stdout"
        }
      ]
    },
    {
      "cell_type": "markdown",
      "metadata": {
        "id": "Rl8RvWTElLr9"
      },
      "source": [
        "## 4. Pruebas\r\n",
        "\r\n",
        "En este caso la prueba será de escritorio:\r\n",
        "\r\n",
        "|numero|pares| impares |\r\n",
        "|--------------|---------------|------------|\r\n",
        "|4| 8| 0|\r\n",
        "|5| 8|5|\r\n",
        "|1|8|6|\r\n",
        "|2|12| 6|\r\n",
        "|5|12|11|\r\n",
        "|8|28|11|\r\n",
        "|6|40|11|\r\n",
        "|9|40|20|\r\n",
        "|5|40|25|\r\n",
        "|7|40|32|\r\n",
        "\r\n",
        "### Conclusión: \r\n",
        "El programa con las prueblas coinciden efectivamente"
      ]
    },
    {
      "cell_type": "markdown",
      "metadata": {
        "id": "YhJFMP4KengX"
      },
      "source": [
        "## Escribir un programa que pida al usuario un número entero y muestre por pantalla un triángulo rectángulo como el de más abajo.\r\n",
        "\r\n",
        "- 1\r\n",
        "- 3 1\r\n",
        "- 5 3 1\r\n",
        "- 7 5 3 1\r\n",
        "- 9 7 5 3 1"
      ]
    },
    {
      "cell_type": "code",
      "metadata": {
        "id": "aFn9tThfejCT"
      },
      "source": [
        "numero = int(input(\"Ingrese un numero: \"))\r\n",
        "numero = len(range(numero * 2))\r\n",
        "lista = []\r\n",
        "\r\n",
        "for i in range(numero):\r\n",
        "  if (i%2!=0):\r\n",
        "    lista.append(i)\r\n",
        "for i in range(len(lista)):\r\n",
        "  print(lista[i::-1])"
      ],
      "execution_count": null,
      "outputs": []
    },
    {
      "cell_type": "markdown",
      "metadata": {
        "id": "XLwKJOR6d3vj"
      },
      "source": [
        "## Escribir un programa que pregunte al usuario su edad y muestre por pantalla todos los años que ha cumplido (desde 1 hasta su edad)"
      ]
    },
    {
      "cell_type": "code",
      "metadata": {
        "id": "rOEUes18fxFi"
      },
      "source": [
        "edad = int(input(\"Ingrese su edad: \"))\r\n",
        "print(\"Todos los años que ha cumplido: \")\r\n",
        "edades = []\r\n",
        "for i in range(edad):\r\n",
        "  print(str (i))\r\n",
        "  edades.append(i)\r\n",
        "# Tambien lo puedes hacer en una ista\r\n",
        "print(edades)"
      ],
      "execution_count": null,
      "outputs": []
    },
    {
      "cell_type": "markdown",
      "metadata": {
        "id": "Byrz5-tGd3va"
      },
      "source": [
        "## Escribir un programa en el que se pregunte al usuario por una frase y una letra, y muestre por pantalla el número de veces que aparece la letra en la frase."
      ]
    },
    {
      "cell_type": "code",
      "metadata": {
        "id": "rj1DQQAlgmld"
      },
      "source": [
        "frase = input(\"Escriba una frase: \")\r\n",
        "letra = input(\"Ingrese una letra: \")\r\n",
        "nveces = 0\r\n",
        "# convertir las letras en minusculas\r\n",
        "frase = frase.lower()\r\n",
        "letra = letra.lower()\r\n",
        "\r\n",
        "for i in range(len(frase)):\r\n",
        "  if frase[i] == letra:\r\n",
        "    nveces += 1\r\n",
        "\r\n",
        "print(\"La letra se repitio :\"+ str(nveces))"
      ],
      "execution_count": null,
      "outputs": []
    }
  ]
}